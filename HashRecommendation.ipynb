{
 "cells": [
  {
   "cell_type": "code",
   "execution_count": 1,
   "metadata": {},
   "outputs": [
    {
     "name": "stdout",
     "output_type": "stream",
     "text": [
      "SimHash of text1: 3279303472042380063\n",
      "SimHash of text2: 4397603971125643799\n",
      "Hamming distance: 9\n"
     ]
    }
   ],
   "source": [
    "import hashlib\n",
    "\n",
    "def tokenize(text):\n",
    "    # Simple tokenizer that splits text into lowercase words\n",
    "    return text.lower().split()\n",
    "\n",
    "def get_features(tokens):\n",
    "    # Generate a dictionary of token frequencies\n",
    "    features = {}\n",
    "    for token in tokens:\n",
    "        features[token] = features.get(token, 0) + 1\n",
    "    return features\n",
    "\n",
    "def simhash(features, hashbits=64):\n",
    "    # Initialize a vector of zeros with length equal to hashbits\n",
    "    v = [0] * hashbits\n",
    "    for feature, weight in features.items():\n",
    "        # Hash the feature string into a large integer\n",
    "        h = int(hashlib.md5(feature.encode('utf-8')).hexdigest(), 16)\n",
    "        for i in range(hashbits):\n",
    "            bitmask = 1 << i\n",
    "            # Update the vector based on whether the bit is set\n",
    "            if h & bitmask:\n",
    "                v[i] += weight\n",
    "            else:\n",
    "                v[i] -= weight\n",
    "    # Construct the final hash\n",
    "    fingerprint = 0\n",
    "    for i in range(hashbits):\n",
    "        if v[i] >= 0:\n",
    "            fingerprint |= 1 << i\n",
    "    return fingerprint\n",
    "\n",
    "def hamming_distance(hash1, hash2):\n",
    "    # Compute the Hamming distance between two hashes\n",
    "    x = hash1 ^ hash2\n",
    "    total = 0\n",
    "    while x:\n",
    "        total += 1\n",
    "        x &= x - 1  # Remove the lowest set bit\n",
    "    return total\n",
    "\n",
    "# Example usage\n",
    "text1 = \"The quick brown fox jumps over the lazy dog\"\n",
    "text2 = \"The quick brown fox leaps over the lazy dog\"\n",
    "\n",
    "tokens1 = tokenize(text1)\n",
    "tokens2 = tokenize(text2)\n",
    "\n",
    "features1 = get_features(tokens1)\n",
    "features2 = get_features(tokens2)\n",
    "\n",
    "hash1 = simhash(features1)\n",
    "hash2 = simhash(features2)\n",
    "\n",
    "print(f\"SimHash of text1: {hash1}\")\n",
    "print(f\"SimHash of text2: {hash2}\")\n",
    "print(f\"Hamming distance: {hamming_distance(hash1, hash2)}\")\n"
   ]
  },
  {
   "cell_type": "code",
   "execution_count": 2,
   "metadata": {},
   "outputs": [
    {
     "name": "stdout",
     "output_type": "stream",
     "text": [
      "SimHash of text1: 17212422180994792698\n",
      "SimHash of text2: 4397603971125643799\n",
      "Hamming distance: 37\n"
     ]
    }
   ],
   "source": [
    "# Example usage\n",
    "text1 = \"This is another test\"\n",
    "text2 = \"The quick brown fox leaps over the lazy dog\"\n",
    "\n",
    "tokens1 = tokenize(text1)\n",
    "tokens2 = tokenize(text2)\n",
    "\n",
    "features1 = get_features(tokens1)\n",
    "features2 = get_features(tokens2)\n",
    "\n",
    "hash1 = simhash(features1)\n",
    "hash2 = simhash(features2)\n",
    "\n",
    "print(f\"SimHash of text1: {hash1}\")\n",
    "print(f\"SimHash of text2: {hash2}\")\n",
    "print(f\"Hamming distance: {hamming_distance(hash1, hash2)}\")\n"
   ]
  }
 ],
 "metadata": {
  "kernelspec": {
   "display_name": "Python 3",
   "language": "python",
   "name": "python3"
  },
  "language_info": {
   "codemirror_mode": {
    "name": "ipython",
    "version": 3
   },
   "file_extension": ".py",
   "mimetype": "text/x-python",
   "name": "python",
   "nbconvert_exporter": "python",
   "pygments_lexer": "ipython3",
   "version": "3.11.10"
  }
 },
 "nbformat": 4,
 "nbformat_minor": 2
}
